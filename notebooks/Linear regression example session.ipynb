{
 "cells": [
  {
   "cell_type": "code",
   "execution_count": 1,
   "metadata": {},
   "outputs": [
    {
     "name": "stderr",
     "output_type": "stream",
     "text": [
      "In C:\\Users\\francescag\\AppData\\Local\\Continuum\\miniconda3\\lib\\site-packages\\matplotlib\\mpl-data\\stylelib\\_classic_test.mplstyle: \n",
      "The savefig.frameon rcparam was deprecated in Matplotlib 3.1 and will be removed in 3.3.\n",
      "In C:\\Users\\francescag\\AppData\\Local\\Continuum\\miniconda3\\lib\\site-packages\\matplotlib\\mpl-data\\stylelib\\_classic_test.mplstyle: \n",
      "The verbose.level rcparam was deprecated in Matplotlib 3.1 and will be removed in 3.3.\n",
      "In C:\\Users\\francescag\\AppData\\Local\\Continuum\\miniconda3\\lib\\site-packages\\matplotlib\\mpl-data\\stylelib\\_classic_test.mplstyle: \n",
      "The verbose.fileo rcparam was deprecated in Matplotlib 3.1 and will be removed in 3.3.\n"
     ]
    }
   ],
   "source": [
    "%matplotlib qt5\n",
    "import numpy as np\n",
    "from sklearn.metrics import explained_variance_score\n",
    "from sklearn.linear_model import LinearRegression, Lasso, Ridge, BayesianRidge\n",
    "from scipy.ndimage.interpolation import shift\n",
    "from scipy.signal import decimate\n",
    "from matplotlib import pyplot as plt\n",
    "from scipy import stats\n",
    "import pandas as pd\n",
    "import pickle\n",
    "import sys\n",
    "sys.path.append('C:\\\\Users\\\\francescag\\\\Documents\\\\SourceTree_repos\\\\Python_git\\\\')\n",
    "sys.path.insert(0, 'C:\\\\Users\\\\francescag\\\\Documents\\\\SourceTree_repos')\n",
    "sys.path.insert(0, 'C:\\\\Users\\\\francescag\\\\Documents\\\\SourceTree_repos\\\\Python_git\\\\freely_moving_photometry_analysis')\n",
    "from utils.individual_trial_analysis_utils import SessionEvents"
   ]
  },
  {
   "cell_type": "code",
   "execution_count": 2,
   "metadata": {},
   "outputs": [],
   "source": [
    "def rolling_zscore(x, window=10*10000):\n",
    "    r = x.rolling(window=window)\n",
    "    m = r.mean().shift(1)\n",
    "    s = r.std(ddof=0).shift(1)\n",
    "    z = (x-m)/s\n",
    "    return z"
   ]
  },
  {
   "cell_type": "code",
   "execution_count": 3,
   "metadata": {},
   "outputs": [],
   "source": [
    "mouse = 'SNL_photo34'\n",
    "date = '20201117'\n",
    "saving_folder = 'W:\\\\photometry_2AC\\\\processed_data\\\\' + mouse + '\\\\'\n",
    "events_folder = 'W:\\\\photometry_2AC\\\\processed_data\\\\' + mouse + '\\\\linear_regression\\\\'\n",
    "restructured_data_filename = mouse + '_' + date + '_' + 'restructured_data.pkl'\n",
    "trial_data = pd.read_pickle(saving_folder + restructured_data_filename) \n",
    "dff_trace_filename = mouse + '_' + date + '_' + 'smoothed_signal.npy'\n",
    "dff = np.load(saving_folder + dff_trace_filename)"
   ]
  },
  {
   "cell_type": "code",
   "execution_count": 4,
   "metadata": {},
   "outputs": [],
   "source": [
    "window_size_seconds = 10\n",
    "sample_rate = 10000\n",
    "decimate_factor = 100"
   ]
  },
  {
   "cell_type": "code",
   "execution_count": 5,
   "metadata": {},
   "outputs": [],
   "source": [
    "rolling_zscored_dff = rolling_zscore(pd.Series(dff), window=window_size_seconds*sample_rate)"
   ]
  },
  {
   "cell_type": "code",
   "execution_count": 6,
   "metadata": {},
   "outputs": [
    {
     "data": {
      "text/plain": [
       "(44837500,)"
      ]
     },
     "execution_count": 6,
     "metadata": {},
     "output_type": "execute_result"
    }
   ],
   "source": [
    "dff.shape"
   ]
  },
  {
   "cell_type": "code",
   "execution_count": 7,
   "metadata": {},
   "outputs": [],
   "source": [
    "downsampled_zscored_dff = decimate(decimate(rolling_zscored_dff[window_size_seconds*sample_rate:], int(decimate_factor/10)), int(decimate_factor/10))"
   ]
  },
  {
   "cell_type": "code",
   "execution_count": 8,
   "metadata": {},
   "outputs": [],
   "source": [
    "num_samples = downsampled_zscored_dff.shape[0]"
   ]
  },
  {
   "cell_type": "code",
   "execution_count": 9,
   "metadata": {},
   "outputs": [
    {
     "data": {
      "text/plain": [
       "447375"
      ]
     },
     "execution_count": 9,
     "metadata": {},
     "output_type": "execute_result"
    }
   ],
   "source": [
    "num_samples"
   ]
  },
  {
   "cell_type": "code",
   "execution_count": 10,
   "metadata": {},
   "outputs": [],
   "source": [
    "def turn_timestamps_into_continuous(num_samples, *behavioural_events):\n",
    "    continuous_parameters = []\n",
    "    for event_type_timestamps in behavioural_events:\n",
    "        continuous_time_version = np.zeros([num_samples])\n",
    "        continuous_time_version[event_type_timestamps] = 1\n",
    "        continuous_parameters.append(continuous_time_version)\n",
    "    return continuous_parameters"
   ]
  },
  {
   "cell_type": "code",
   "execution_count": 11,
   "metadata": {},
   "outputs": [],
   "source": [
    "from utils.individual_trial_analysis_utils import SessionEvents"
   ]
  },
  {
   "cell_type": "code",
   "execution_count": 12,
   "metadata": {
    "scrolled": true
   },
   "outputs": [
    {
     "ename": "FileNotFoundError",
     "evalue": "[Errno 2] No such file or directory: 'W:\\\\photometry_2AC\\\\processed_data\\\\SNL_photo34\\\\linear_regression\\\\SNL_photo34_20201117_behavioural_events_with_no_rewards_added.p'",
     "output_type": "error",
     "traceback": [
      "\u001b[1;31m---------------------------------------------------------------------------\u001b[0m",
      "\u001b[1;31mFileNotFoundError\u001b[0m                         Traceback (most recent call last)",
      "\u001b[1;32m<ipython-input-12-51eeaf05ea4c>\u001b[0m in \u001b[0;36m<module>\u001b[1;34m\u001b[0m\n\u001b[0;32m      1\u001b[0m \u001b[0maligned_filename\u001b[0m \u001b[1;33m=\u001b[0m \u001b[0mmouse\u001b[0m \u001b[1;33m+\u001b[0m \u001b[1;34m'_'\u001b[0m \u001b[1;33m+\u001b[0m \u001b[0mdate\u001b[0m \u001b[1;33m+\u001b[0m \u001b[1;34m'_'\u001b[0m \u001b[1;33m+\u001b[0m\u001b[1;34m'behavioural_events_with_no_rewards_added.p'\u001b[0m\u001b[1;33m\u001b[0m\u001b[1;33m\u001b[0m\u001b[0m\n\u001b[0;32m      2\u001b[0m \u001b[0msave_filename\u001b[0m \u001b[1;33m=\u001b[0m \u001b[0mevents_folder\u001b[0m \u001b[1;33m+\u001b[0m \u001b[0maligned_filename\u001b[0m\u001b[1;33m\u001b[0m\u001b[1;33m\u001b[0m\u001b[0m\n\u001b[1;32m----> 3\u001b[1;33m \u001b[0mexample_session_data\u001b[0m \u001b[1;33m=\u001b[0m \u001b[0mpickle\u001b[0m\u001b[1;33m.\u001b[0m\u001b[0mload\u001b[0m\u001b[1;33m(\u001b[0m\u001b[0mopen\u001b[0m\u001b[1;33m(\u001b[0m\u001b[0msave_filename\u001b[0m\u001b[1;33m,\u001b[0m \u001b[1;34m\"rb\"\u001b[0m\u001b[1;33m)\u001b[0m\u001b[1;33m)\u001b[0m\u001b[1;33m\u001b[0m\u001b[1;33m\u001b[0m\u001b[0m\n\u001b[0m",
      "\u001b[1;31mFileNotFoundError\u001b[0m: [Errno 2] No such file or directory: 'W:\\\\photometry_2AC\\\\processed_data\\\\SNL_photo34\\\\linear_regression\\\\SNL_photo34_20201117_behavioural_events_with_no_rewards_added.p'"
     ]
    }
   ],
   "source": [
    "aligned_filename = mouse + '_' + date + '_' +'behavioural_events_with_no_rewards_added.p'\n",
    "save_filename = events_folder + aligned_filename\n",
    "example_session_data = pickle.load(open(save_filename, \"rb\"))\n"
   ]
  },
  {
   "cell_type": "code",
   "execution_count": null,
   "metadata": {},
   "outputs": [],
   "source": [
    "def convert_behavioural_timestamps_into_samples(time_stamps, window_to_remove, sample_rate=10000, decimate_factor=100):\n",
    "    adjusted_stamps = (time_stamps - window_to_remove)*sample_rate/decimate_factor\n",
    "    adjusted_stamps = np.round(np.vstack(adjusted_stamps).astype(np.float)).astype(int)\n",
    "    return adjusted_stamps"
   ]
  },
  {
   "cell_type": "code",
   "execution_count": null,
   "metadata": {},
   "outputs": [],
   "source": [
    "ipsi_choices = convert_behavioural_timestamps_into_samples(example_session_data.choice_data.ipsi_data.event_times, window_size_seconds)\n",
    "contra_choices = convert_behavioural_timestamps_into_samples(example_session_data.choice_data.contra_data.event_times, window_size_seconds)\n",
    "high_cues = convert_behavioural_timestamps_into_samples(example_session_data.cue_data.high_cue_data.event_times, window_size_seconds)\n",
    "low_cues = convert_behavioural_timestamps_into_samples(example_session_data.cue_data.low_cue_data.event_times, window_size_seconds)\n",
    "rewards = convert_behavioural_timestamps_into_samples(example_session_data.reward_data.reward_data.event_times, window_size_seconds)\n",
    "no_rewards = convert_behavioural_timestamps_into_samples(example_session_data.reward_data.no_reward_data.event_times, window_size_seconds)\n"
   ]
  },
  {
   "cell_type": "code",
   "execution_count": null,
   "metadata": {},
   "outputs": [],
   "source": [
    "ipsi_choices.shape[0] + contra_choices.shape[0]"
   ]
  },
  {
   "cell_type": "code",
   "execution_count": 13,
   "metadata": {},
   "outputs": [
    {
     "ename": "NameError",
     "evalue": "name 'high_cues' is not defined",
     "output_type": "error",
     "traceback": [
      "\u001b[1;31m---------------------------------------------------------------------------\u001b[0m",
      "\u001b[1;31mNameError\u001b[0m                                 Traceback (most recent call last)",
      "\u001b[1;32m<ipython-input-13-506e43fef01d>\u001b[0m in \u001b[0;36m<module>\u001b[1;34m\u001b[0m\n\u001b[1;32m----> 1\u001b[1;33m \u001b[0mhigh_cues\u001b[0m\u001b[1;33m.\u001b[0m\u001b[0mshape\u001b[0m\u001b[1;33m[\u001b[0m\u001b[1;36m0\u001b[0m\u001b[1;33m]\u001b[0m \u001b[1;33m+\u001b[0m \u001b[0mlow_cues\u001b[0m\u001b[1;33m.\u001b[0m\u001b[0mshape\u001b[0m\u001b[1;33m[\u001b[0m\u001b[1;36m0\u001b[0m\u001b[1;33m]\u001b[0m\u001b[1;33m\u001b[0m\u001b[1;33m\u001b[0m\u001b[0m\n\u001b[0m",
      "\u001b[1;31mNameError\u001b[0m: name 'high_cues' is not defined"
     ]
    }
   ],
   "source": [
    "high_cues.shape[0] + low_cues.shape[0]"
   ]
  },
  {
   "cell_type": "code",
   "execution_count": 356,
   "metadata": {},
   "outputs": [
    {
     "data": {
      "text/plain": [
       "(77, 1)"
      ]
     },
     "execution_count": 356,
     "metadata": {},
     "output_type": "execute_result"
    }
   ],
   "source": [
    "contra_choices.shape"
   ]
  },
  {
   "cell_type": "code",
   "execution_count": 357,
   "metadata": {},
   "outputs": [
    {
     "data": {
      "text/plain": [
       "(168, 1)"
      ]
     },
     "execution_count": 357,
     "metadata": {},
     "output_type": "execute_result"
    }
   ],
   "source": [
    "low_cues.shape"
   ]
  },
  {
   "cell_type": "code",
   "execution_count": 358,
   "metadata": {},
   "outputs": [],
   "source": [
    "parameters = turn_timestamps_into_continuous(num_samples,  high_cues, low_cues, ipsi_choices, contra_choices, rewards, no_rewards)"
   ]
  },
  {
   "cell_type": "code",
   "execution_count": 359,
   "metadata": {},
   "outputs": [],
   "source": [
    "all_cues = np.concatenate([example_session_data.cue_data.high_cue_data.trial_nums, example_session_data.cue_data.low_cue_data.trial_nums])\n",
    "all_choices = np.concatenate([ example_session_data.choice_data.contra_data.trial_nums, example_session_data.choice_data.ipsi_data.trial_nums])\n",
    "all_outcomes = np.concatenate([ example_session_data.reward_data.reward_data.trial_nums, example_session_data.reward_data.no_reward_data.trial_nums ])\n",
    "temp = np.intersect1d(all_cues, all_choices)\n",
    "intersect_trial_nums = np.intersect1d(temp, all_outcomes)\n"
   ]
  },
  {
   "cell_type": "code",
   "execution_count": 360,
   "metadata": {},
   "outputs": [],
   "source": [
    "_,high_cue_inds, _ = np.intersect1d(example_session_data.cue_data.high_cue_data.trial_nums, intersect_trial_nums, return_indices=True)\n",
    "_,low_cue_inds, _ = np.intersect1d(example_session_data.cue_data.low_cue_data.trial_nums, intersect_trial_nums,  return_indices=True)\n",
    "_, contra_choice_inds, _ = np.intersect1d(example_session_data.choice_data.contra_data.trial_nums, intersect_trial_nums,  return_indices=True)\n",
    "_,ipsi_choice_inds, _ = np.intersect1d(example_session_data.choice_data.ipsi_data.trial_nums, intersect_trial_nums,  return_indices=True)\n",
    "_,reward_inds, _ = np.intersect1d(example_session_data.reward_data.reward_data.trial_nums, intersect_trial_nums,  return_indices=True)\n",
    "_,no_reward_inds, _ = np.intersect1d(example_session_data.reward_data.no_reward_data.trial_nums, intersect_trial_nums,  return_indices=True)"
   ]
  },
  {
   "cell_type": "code",
   "execution_count": 361,
   "metadata": {},
   "outputs": [],
   "source": [
    "high_cue_trial_starts = (example_session_data.cue_data.high_cue_data.trial_starts[high_cue_inds])\n",
    "low_cue_trial_starts = (example_session_data.cue_data.low_cue_data.trial_starts[low_cue_inds])\n",
    "contra_trial_starts = (example_session_data.choice_data.contra_data.trial_starts[contra_choice_inds])\n",
    "ipsi_trial_starts = (example_session_data.choice_data.ipsi_data.trial_starts[ipsi_choice_inds])\n",
    "reward_trial_starts = (example_session_data.reward_data.reward_data.trial_starts[reward_inds])\n",
    "no_reward_trial_starts = (example_session_data.reward_data.no_reward_data.trial_starts[no_reward_inds])"
   ]
  },
  {
   "cell_type": "code",
   "execution_count": 362,
   "metadata": {},
   "outputs": [],
   "source": [
    "high_cue_trial_ends = (example_session_data.cue_data.high_cue_data.sorted_next_poke[high_cue_inds])\n",
    "low_cue_trial_ends = (example_session_data.cue_data.low_cue_data.sorted_next_poke[low_cue_inds])\n",
    "contra_trial_ends = (example_session_data.choice_data.contra_data.sorted_next_poke[contra_choice_inds])\n",
    "ipsi_trial_ends = (example_session_data.choice_data.ipsi_data.sorted_next_poke[ipsi_choice_inds])\n",
    "reward_trial_ends = (example_session_data.reward_data.reward_data.sorted_next_poke[reward_inds])\n",
    "no_reward_trial_ends = (example_session_data.reward_data.no_reward_data.sorted_next_poke[no_reward_inds])"
   ]
  },
  {
   "cell_type": "code",
   "execution_count": 363,
   "metadata": {},
   "outputs": [
    {
     "name": "stderr",
     "output_type": "stream",
     "text": [
      "C:\\Users\\francescag\\AppData\\Local\\Continuum\\miniconda3\\lib\\site-packages\\ipykernel_launcher.py:3: DeprecationWarning: `np.float` is a deprecated alias for the builtin `float`. To silence this warning, use `float` by itself. Doing this will not modify any behavior and is safe. If you specifically wanted the numpy scalar type, use `np.float64` here.\n",
      "Deprecated in NumPy 1.20; for more details and guidance: https://numpy.org/devdocs/release/1.20.0-notes.html#deprecations\n",
      "  This is separate from the ipykernel package so we can avoid doing imports until\n"
     ]
    }
   ],
   "source": [
    "events = np.squeeze(convert_behavioural_timestamps_into_samples(example_session_data.cue_data.high_cue_data.event_times[high_cue_inds], window_size_seconds))"
   ]
  },
  {
   "cell_type": "code",
   "execution_count": 305,
   "metadata": {},
   "outputs": [
    {
     "name": "stderr",
     "output_type": "stream",
     "text": [
      "C:\\Users\\francescag\\AppData\\Local\\Continuum\\miniconda3\\lib\\site-packages\\ipykernel_launcher.py:3: DeprecationWarning: `np.float` is a deprecated alias for the builtin `float`. To silence this warning, use `float` by itself. Doing this will not modify any behavior and is safe. If you specifically wanted the numpy scalar type, use `np.float64` here.\n",
      "Deprecated in NumPy 1.20; for more details and guidance: https://numpy.org/devdocs/release/1.20.0-notes.html#deprecations\n",
      "  This is separate from the ipykernel package so we can avoid doing imports until\n"
     ]
    }
   ],
   "source": [
    "hc_ts_samps = np.squeeze(convert_behavioural_timestamps_into_samples(high_cue_trial_starts, window_size_seconds))"
   ]
  },
  {
   "cell_type": "code",
   "execution_count": 306,
   "metadata": {},
   "outputs": [
    {
     "name": "stderr",
     "output_type": "stream",
     "text": [
      "C:\\Users\\francescag\\AppData\\Local\\Continuum\\miniconda3\\lib\\site-packages\\ipykernel_launcher.py:3: DeprecationWarning: `np.float` is a deprecated alias for the builtin `float`. To silence this warning, use `float` by itself. Doing this will not modify any behavior and is safe. If you specifically wanted the numpy scalar type, use `np.float64` here.\n",
      "Deprecated in NumPy 1.20; for more details and guidance: https://numpy.org/devdocs/release/1.20.0-notes.html#deprecations\n",
      "  This is separate from the ipykernel package so we can avoid doing imports until\n"
     ]
    }
   ],
   "source": [
    "hc_te_samps = np.squeeze(convert_behavioural_timestamps_into_samples(high_cue_trial_ends, window_size_seconds))"
   ]
  },
  {
   "cell_type": "code",
   "execution_count": 364,
   "metadata": {},
   "outputs": [],
   "source": [
    "all_trial_starts = np.unique(np.concatenate([high_cue_trial_starts, low_cue_trial_starts, contra_trial_starts, ipsi_trial_starts, reward_trial_starts, no_reward_trial_starts]))\n",
    "all_trial_ends = np.unique(np.concatenate([high_cue_trial_ends, low_cue_trial_ends, contra_trial_ends, ipsi_trial_ends, reward_trial_ends, no_reward_trial_ends]))"
   ]
  },
  {
   "cell_type": "code",
   "execution_count": 250,
   "metadata": {},
   "outputs": [],
   "source": [
    "# all_trial_starts = np.sort(np.unique(np.concatenate([example_session_data.cue_data.high_cue_data.trial_starts, example_session_data.cue_data.low_cue_data.trial_starts, example_session_data.choice_data.contra_data.trial_starts, example_session_data.choice_data.ipsi_data.trial_starts, example_session_data.reward_data.no_reward_data.trial_starts, example_session_data.reward_data.reward_data.trial_starts])))\n",
    "# all_trial_ends = np.sort(np.unique(np.concatenate([example_session_data.cue_data.high_cue_data.trial_ends, example_session_data.cue_data.low_cue_data.trial_ends, example_session_data.choice_data.contra_data.trial_ends, example_session_data.choice_data.ipsi_data.trial_ends, example_session_data.reward_data.no_reward_data.trial_ends, example_session_data.reward_data.reward_data.trial_ends])))"
   ]
  },
  {
   "cell_type": "code",
   "execution_count": 310,
   "metadata": {},
   "outputs": [
    {
     "name": "stderr",
     "output_type": "stream",
     "text": [
      "C:\\Users\\francescag\\AppData\\Local\\Continuum\\miniconda3\\lib\\site-packages\\ipykernel_launcher.py:3: DeprecationWarning: `np.float` is a deprecated alias for the builtin `float`. To silence this warning, use `float` by itself. Doing this will not modify any behavior and is safe. If you specifically wanted the numpy scalar type, use `np.float64` here.\n",
      "Deprecated in NumPy 1.20; for more details and guidance: https://numpy.org/devdocs/release/1.20.0-notes.html#deprecations\n",
      "  This is separate from the ipykernel package so we can avoid doing imports until\n"
     ]
    }
   ],
   "source": [
    "trial_starts_samps= np.squeeze(convert_behavioural_timestamps_into_samples(all_trial_starts, window_size_seconds))\n",
    "trial_ends_samps= np.squeeze(convert_behavioural_timestamps_into_samples(all_trial_ends, window_size_seconds))"
   ]
  },
  {
   "cell_type": "code",
   "execution_count": 311,
   "metadata": {},
   "outputs": [
    {
     "data": {
      "text/plain": [
       "20.015087332356927"
      ]
     },
     "execution_count": 311,
     "metadata": {},
     "output_type": "execute_result"
    }
   ],
   "source": [
    "np.mean(all_trial_ends - all_trial_starts) + 2*np.std(all_trial_ends - all_trial_starts)"
   ]
  },
  {
   "cell_type": "code",
   "execution_count": 312,
   "metadata": {},
   "outputs": [],
   "source": [
    "trial_durations = all_trial_ends - all_trial_starts"
   ]
  },
  {
   "cell_type": "code",
   "execution_count": 313,
   "metadata": {},
   "outputs": [],
   "source": [
    "trials_to_include = pd.DataFrame({'trial starts': trial_starts_samps, 'trial ends': trial_ends_samps, 'durations': trial_durations})"
   ]
  },
  {
   "cell_type": "code",
   "execution_count": 316,
   "metadata": {},
   "outputs": [],
   "source": [
    "trials_to_remove = trials_to_include[trials_to_include['durations']> np.mean(trial_durations) + 2*np.std(trial_durations)].reset_index(drop=True)"
   ]
  },
  {
   "cell_type": "code",
   "execution_count": 314,
   "metadata": {},
   "outputs": [],
   "source": [
    "trials_to_use = trials_to_include[trials_to_include['durations']< np.mean(trial_durations) + 2*np.std(trial_durations)].reset_index(drop=True)"
   ]
  },
  {
   "cell_type": "code",
   "execution_count": 317,
   "metadata": {},
   "outputs": [
    {
     "data": {
      "text/html": [
       "<div>\n",
       "<style scoped>\n",
       "    .dataframe tbody tr th:only-of-type {\n",
       "        vertical-align: middle;\n",
       "    }\n",
       "\n",
       "    .dataframe tbody tr th {\n",
       "        vertical-align: top;\n",
       "    }\n",
       "\n",
       "    .dataframe thead th {\n",
       "        text-align: right;\n",
       "    }\n",
       "</style>\n",
       "<table border=\"1\" class=\"dataframe\">\n",
       "  <thead>\n",
       "    <tr style=\"text-align: right;\">\n",
       "      <th></th>\n",
       "      <th>trial starts</th>\n",
       "      <th>trial ends</th>\n",
       "      <th>durations</th>\n",
       "    </tr>\n",
       "  </thead>\n",
       "  <tbody>\n",
       "    <tr>\n",
       "      <th>0</th>\n",
       "      <td>2678</td>\n",
       "      <td>5867</td>\n",
       "      <td>31.8939</td>\n",
       "    </tr>\n",
       "    <tr>\n",
       "      <th>1</th>\n",
       "      <td>50902</td>\n",
       "      <td>62147</td>\n",
       "      <td>112.4581</td>\n",
       "    </tr>\n",
       "  </tbody>\n",
       "</table>\n",
       "</div>"
      ],
      "text/plain": [
       "   trial starts  trial ends  durations\n",
       "0          2678        5867    31.8939\n",
       "1         50902       62147   112.4581"
      ]
     },
     "execution_count": 317,
     "metadata": {},
     "output_type": "execute_result"
    }
   ],
   "source": [
    "trials_to_remove"
   ]
  },
  {
   "cell_type": "code",
   "execution_count": 87,
   "metadata": {},
   "outputs": [],
   "source": [
    "inds_to_go = []\n",
    "for ind, trial in trials_to_remove.iterrows():\n",
    "    inds_to_go.append(slice(int(trial['trial starts']), int(trial['trial ends'])))"
   ]
  },
  {
   "cell_type": "code",
   "execution_count": 88,
   "metadata": {},
   "outputs": [],
   "source": [
    "ind = np.indices(downsampled_zscored_dff.shape)[0]\n",
    "rm = np.hstack([ind[i] for i in inds_to_go])\n",
    "trace_for_reg = np.take(downsampled_zscored_dff, sorted(set(ind)-set(rm)))"
   ]
  },
  {
   "cell_type": "code",
   "execution_count": 89,
   "metadata": {},
   "outputs": [],
   "source": [
    "params_for_reg = []\n",
    "for param in parameters:\n",
    "    param_new = np.take(param, sorted(set(ind)-set(rm)))\n",
    "    params_for_reg.append(param_new)"
   ]
  },
  {
   "cell_type": "code",
   "execution_count": 130,
   "metadata": {
    "scrolled": true
   },
   "outputs": [
    {
     "data": {
      "text/plain": [
       "0.08306934051237935"
      ]
     },
     "execution_count": 130,
     "metadata": {},
     "output_type": "execute_result"
    }
   ],
   "source": [
    "all_param_indices, X = make_design_matrix(params_for_reg, window_max=0.5*10000/100)\n",
    "results = LinearRegression().fit(X, trace_for_reg)\n",
    "results.score(X, trace_for_reg)"
   ]
  },
  {
   "cell_type": "code",
   "execution_count": 318,
   "metadata": {},
   "outputs": [
    {
     "data": {
      "text/html": [
       "<div>\n",
       "<style scoped>\n",
       "    .dataframe tbody tr th:only-of-type {\n",
       "        vertical-align: middle;\n",
       "    }\n",
       "\n",
       "    .dataframe tbody tr th {\n",
       "        vertical-align: top;\n",
       "    }\n",
       "\n",
       "    .dataframe thead th {\n",
       "        text-align: right;\n",
       "    }\n",
       "</style>\n",
       "<table border=\"1\" class=\"dataframe\">\n",
       "  <thead>\n",
       "    <tr style=\"text-align: right;\">\n",
       "      <th></th>\n",
       "      <th>trial starts</th>\n",
       "      <th>trial ends</th>\n",
       "      <th>durations</th>\n",
       "    </tr>\n",
       "  </thead>\n",
       "  <tbody>\n",
       "    <tr>\n",
       "      <th>0</th>\n",
       "      <td>37639</td>\n",
       "      <td>37955</td>\n",
       "      <td>3.1586</td>\n",
       "    </tr>\n",
       "    <tr>\n",
       "      <th>1</th>\n",
       "      <td>37955</td>\n",
       "      <td>38882</td>\n",
       "      <td>9.2716</td>\n",
       "    </tr>\n",
       "    <tr>\n",
       "      <th>2</th>\n",
       "      <td>38882</td>\n",
       "      <td>39564</td>\n",
       "      <td>6.8201</td>\n",
       "    </tr>\n",
       "    <tr>\n",
       "      <th>3</th>\n",
       "      <td>42096</td>\n",
       "      <td>42842</td>\n",
       "      <td>7.4578</td>\n",
       "    </tr>\n",
       "    <tr>\n",
       "      <th>4</th>\n",
       "      <td>43320</td>\n",
       "      <td>43615</td>\n",
       "      <td>2.9503</td>\n",
       "    </tr>\n",
       "    <tr>\n",
       "      <th>...</th>\n",
       "      <td>...</td>\n",
       "      <td>...</td>\n",
       "      <td>...</td>\n",
       "    </tr>\n",
       "    <tr>\n",
       "      <th>242</th>\n",
       "      <td>401424</td>\n",
       "      <td>401960</td>\n",
       "      <td>5.3668</td>\n",
       "    </tr>\n",
       "    <tr>\n",
       "      <th>243</th>\n",
       "      <td>402676</td>\n",
       "      <td>403026</td>\n",
       "      <td>3.5008</td>\n",
       "    </tr>\n",
       "    <tr>\n",
       "      <th>244</th>\n",
       "      <td>405472</td>\n",
       "      <td>405888</td>\n",
       "      <td>4.1562</td>\n",
       "    </tr>\n",
       "    <tr>\n",
       "      <th>245</th>\n",
       "      <td>406415</td>\n",
       "      <td>406924</td>\n",
       "      <td>5.0919</td>\n",
       "    </tr>\n",
       "    <tr>\n",
       "      <th>246</th>\n",
       "      <td>406924</td>\n",
       "      <td>407291</td>\n",
       "      <td>3.6764</td>\n",
       "    </tr>\n",
       "  </tbody>\n",
       "</table>\n",
       "<p>247 rows × 3 columns</p>\n",
       "</div>"
      ],
      "text/plain": [
       "     trial starts  trial ends  durations\n",
       "0           37639       37955     3.1586\n",
       "1           37955       38882     9.2716\n",
       "2           38882       39564     6.8201\n",
       "3           42096       42842     7.4578\n",
       "4           43320       43615     2.9503\n",
       "..            ...         ...        ...\n",
       "242        401424      401960     5.3668\n",
       "243        402676      403026     3.5008\n",
       "244        405472      405888     4.1562\n",
       "245        406415      406924     5.0919\n",
       "246        406924      407291     3.6764\n",
       "\n",
       "[247 rows x 3 columns]"
      ]
     },
     "execution_count": 318,
     "metadata": {},
     "output_type": "execute_result"
    }
   ],
   "source": [
    "trials_to_use"
   ]
  },
  {
   "cell_type": "code",
   "execution_count": 319,
   "metadata": {},
   "outputs": [],
   "source": [
    "trace_for_regression = np.array([])\n",
    "for ind, trial in trials_to_use.iterrows():\n",
    "    trial_start = int(trial['trial starts'])\n",
    "    trial_end = int(trial['trial ends'])\n",
    "    trace_for_regression = np.append(trace_for_regression, downsampled_zscored_dff[trial_start:trial_end])"
   ]
  },
  {
   "cell_type": "code",
   "execution_count": 320,
   "metadata": {},
   "outputs": [],
   "source": [
    "params_for_regression = []\n",
    "for param in parameters:\n",
    "    param_new = np.array([])\n",
    "    for ind, trial in trials_to_use.iterrows():\n",
    "        trial_start = int(trial['trial starts'])\n",
    "        trial_end = int(trial['trial ends'])\n",
    "        param_new = np.append(param_new, param[trial_start:trial_end])\n",
    "    params_for_regression.append(param_new)"
   ]
  },
  {
   "cell_type": "code",
   "execution_count": null,
   "metadata": {},
   "outputs": [],
   "source": [
    "param_names = ['high cues', 'low cues', 'ipsi choices', 'contra choices', 'rewards', 'no rewards']\n",
    "shifts, windows = make_shifts_for_params(param_names)\n",
    "param_inds, X = make_design_matrix_different_shifts(params_for_reg, shifts, windows)\n",
    "results = LinearRegression().fit(X, trace_for_reg)\n",
    "print(results.score(X, trace_for_reg))"
   ]
  },
  {
   "cell_type": "code",
   "execution_count": 321,
   "metadata": {},
   "outputs": [
    {
     "data": {
      "text/plain": [
       "(123556,)"
      ]
     },
     "execution_count": 321,
     "metadata": {},
     "output_type": "execute_result"
    }
   ],
   "source": [
    "params_for_regression[0].shape"
   ]
  },
  {
   "cell_type": "code",
   "execution_count": 322,
   "metadata": {},
   "outputs": [],
   "source": [
    "all_param_indices, X = make_design_matrix(params_for_regression)"
   ]
  },
  {
   "cell_type": "code",
   "execution_count": 323,
   "metadata": {},
   "outputs": [],
   "source": [
    "results = LinearRegression().fit(X, trace_for_regression)"
   ]
  },
  {
   "cell_type": "code",
   "execution_count": 324,
   "metadata": {},
   "outputs": [
    {
     "data": {
      "text/plain": [
       "0.17427212465536746"
      ]
     },
     "execution_count": 324,
     "metadata": {},
     "output_type": "execute_result"
    }
   ],
   "source": [
    "results.score(X, trace_for_regression)"
   ]
  },
  {
   "cell_type": "code",
   "execution_count": 325,
   "metadata": {},
   "outputs": [],
   "source": [
    "param_names = ['high_cues', 'low_cues', 'ipsi_choices', 'contra_choices', 'rewards', 'no_rewards']\n",
    "plot_kernels(param_names, results.coef_)"
   ]
  },
  {
   "cell_type": "code",
   "execution_count": 144,
   "metadata": {},
   "outputs": [],
   "source": [
    "def make_design_matrix(parameters, window_min=-0.5*10000/100, window_max=1.5*10000/100):\n",
    "    num_parameters = len(parameters)\n",
    "    shifts = np.arange(window_min, window_max + 1)\n",
    "    shift_window_size = shifts.shape[0]\n",
    "    X = np.zeros([parameters[0].shape[0], shift_window_size*num_parameters])\n",
    "    all_param_indices = []\n",
    "    for shift_num, shift_val in  enumerate(shifts):\n",
    "        for param_num, param in enumerate(parameters):\n",
    "            param_indices = range(param_num*shift_window_size, param_num*shift_window_size + shift_window_size)\n",
    "            all_param_indices.append(param_indices)\n",
    "            shifted_param = shift(param, shift_val, cval=0) \n",
    "            X[:, param_indices[shift_num]] = shifted_param\n",
    "    return(all_param_indices, X)\n"
   ]
  },
  {
   "cell_type": "code",
   "execution_count": 139,
   "metadata": {},
   "outputs": [],
   "source": [
    "def make_shifts_for_params(param_names):\n",
    "    shifts_for_params = []\n",
    "    shift_window_sizes = []\n",
    "    shifts = {'high_cues': np.arange(0, 1*10000/100 + 1),\n",
    "              'low_cues':np.arange(0, 1*10000/100 + 1),\n",
    "              'ipsi_choices': np.arange(-0.5*10000/100, 1.5*10000/100 + 1),\n",
    "              'contra_choices': np.arange(-0.5*10000/100, 1.5*10000/100 + 1),\n",
    "              'rewards': np.arange(0, 1*10000/100 + 1),\n",
    "              'no_rewards': np.arange(0, 1*10000/100 + 1)\n",
    "             }\n",
    "    for param in param_names:\n",
    "        shifts_for_params.append(shifts[param])\n",
    "        shift_window_sizes.append(shifts[param].shape[0])\n",
    "    return shifts_for_params, shift_window_sizes"
   ]
  },
  {
   "cell_type": "code",
   "execution_count": 179,
   "metadata": {},
   "outputs": [],
   "source": [
    "param_names = ['high_cues', 'low_cues', 'ipsi_choices', 'contra_choices', 'rewards', 'no_rewards']\n",
    "shifts, windows = make_shifts_for_params(param_names)"
   ]
  },
  {
   "cell_type": "code",
   "execution_count": 162,
   "metadata": {},
   "outputs": [
    {
     "data": {
      "text/plain": [
       "201.0"
      ]
     },
     "execution_count": 162,
     "metadata": {},
     "output_type": "execute_result"
    }
   ],
   "source": [
    "X.shape[1]/4"
   ]
  },
  {
   "cell_type": "code",
   "execution_count": 165,
   "metadata": {},
   "outputs": [
    {
     "data": {
      "text/plain": [
       "0.0"
      ]
     },
     "execution_count": 165,
     "metadata": {},
     "output_type": "execute_result"
    }
   ],
   "source": [
    "np.sum(windows[:0])"
   ]
  },
  {
   "cell_type": "code",
   "execution_count": 180,
   "metadata": {},
   "outputs": [],
   "source": [
    "param_inds, newX = make_design_matrix_different_shifts(params_for_reg, shifts, windows)"
   ]
  },
  {
   "cell_type": "code",
   "execution_count": 181,
   "metadata": {},
   "outputs": [],
   "source": [
    "new_results = LinearRegression().fit(newX, trace_for_reg)"
   ]
  },
  {
   "cell_type": "code",
   "execution_count": 209,
   "metadata": {},
   "outputs": [
    {
     "data": {
      "text/plain": [
       "0.4308904928091375"
      ]
     },
     "execution_count": 209,
     "metadata": {},
     "output_type": "execute_result"
    }
   ],
   "source": [
    "new_results.score(newX, trace_for_reg)"
   ]
  },
  {
   "cell_type": "code",
   "execution_count": 145,
   "metadata": {},
   "outputs": [
    {
     "ename": "NameError",
     "evalue": "name 'plot_kernels_different_shifts' is not defined",
     "output_type": "error",
     "traceback": [
      "\u001b[1;31m---------------------------------------------------------------------------\u001b[0m",
      "\u001b[1;31mNameError\u001b[0m                                 Traceback (most recent call last)",
      "\u001b[1;32m<ipython-input-145-ed1ee0f585f5>\u001b[0m in \u001b[0;36m<module>\u001b[1;34m\u001b[0m\n\u001b[0;32m      1\u001b[0m \u001b[0mparam_names\u001b[0m \u001b[1;33m=\u001b[0m \u001b[1;33m[\u001b[0m\u001b[1;34m'high_cues'\u001b[0m\u001b[1;33m,\u001b[0m \u001b[1;34m'low_cues'\u001b[0m\u001b[1;33m,\u001b[0m \u001b[1;34m'ipsi_choices'\u001b[0m\u001b[1;33m,\u001b[0m \u001b[1;34m'contra_choices'\u001b[0m\u001b[1;33m,\u001b[0m \u001b[1;34m'rewards'\u001b[0m\u001b[1;33m,\u001b[0m \u001b[1;34m'no_rewards'\u001b[0m\u001b[1;33m]\u001b[0m\u001b[1;33m\u001b[0m\u001b[1;33m\u001b[0m\u001b[0m\n\u001b[1;32m----> 2\u001b[1;33m \u001b[0mplot_kernels_different_shifts\u001b[0m\u001b[1;33m(\u001b[0m\u001b[0mparam_names\u001b[0m\u001b[1;33m,\u001b[0m \u001b[0mnew_results\u001b[0m\u001b[1;33m.\u001b[0m\u001b[0mcoef_\u001b[0m\u001b[1;33m,\u001b[0m \u001b[0mshifts\u001b[0m\u001b[1;33m,\u001b[0m \u001b[0mwindows\u001b[0m\u001b[1;33m)\u001b[0m\u001b[1;33m\u001b[0m\u001b[1;33m\u001b[0m\u001b[0m\n\u001b[0m",
      "\u001b[1;31mNameError\u001b[0m: name 'plot_kernels_different_shifts' is not defined"
     ]
    }
   ],
   "source": [
    "param_names = ['high_cues', 'low_cues', 'ipsi_choices', 'contra_choices', 'rewards', 'no_rewards']\n",
    "plot_kernels_different_shifts(param_names, new_results.coef_, shifts, windows)"
   ]
  },
  {
   "cell_type": "code",
   "execution_count": 146,
   "metadata": {},
   "outputs": [],
   "source": [
    "def make_design_matrix_different_shifts(parameters, all_shifts, shift_window_sizes):\n",
    "    num_parameters = len(parameters)\n",
    "    total_num_regressors = np.sum(shift_window_sizes)\n",
    "    X = np.zeros([parameters[0].shape[0], total_num_regressors])\n",
    "    all_param_indices = []\n",
    "    for param_num, param in enumerate(parameters):\n",
    "        shifts = all_shifts[param_num]\n",
    "        shift_window_size = shift_window_sizes[param_num]\n",
    "        starting_ind = int(np.sum(shift_window_sizes[:param_num]))\n",
    "        for shift_num, shift_val in  enumerate(shifts):\n",
    "                param_indices = range(starting_ind, starting_ind + shift_window_size)\n",
    "                all_param_indices.append(param_indices)\n",
    "                shifted_param = shift(param, shift_val, cval=0) \n",
    "                X[:, param_indices[shift_num]] = shifted_param\n",
    "    return(all_param_indices, X)"
   ]
  },
  {
   "cell_type": "code",
   "execution_count": 147,
   "metadata": {},
   "outputs": [],
   "source": [
    "def plot_kernels(parameter_names,coefs,window_min=-0.5*10000/100, window_max=1.5*10000/100):\n",
    "    \n",
    "    fig, axs = plt.subplots(nrows=1, ncols=len(parameter_names), sharey=True, figsize=(15,8))\n",
    "    axs[0].set_ylabel('Regression coefficient')\n",
    "    shifts = np.arange(window_min, window_max + 1)/100\n",
    "    shift_window_size = shifts.shape[0]\n",
    "    for param_num, param_name in enumerate(parameter_names):\n",
    "        param_kernel = coefs[param_num*shift_window_size:(param_num+1)*shift_window_size]\n",
    "        axs[param_num].plot(shifts, param_kernel, label=param_name)\n",
    "        axs[param_num].set_title(param_name)\n",
    "        axs[param_num].axvline([0])\n",
    "        axs[param_num].set_xlabel('Time (s)')"
   ]
  },
  {
   "cell_type": "code",
   "execution_count": 205,
   "metadata": {},
   "outputs": [],
   "source": [
    "def plot_kernels_different_shifts(parameter_names, coefs, all_shifts, shift_window_sizes):\n",
    "    fig, axs = plt.subplots(nrows=1, ncols=len(parameter_names), sharey=True, figsize=(15,8))\n",
    "    axs[0].set_ylabel('Regression coefficient')\n",
    "    for param_num, param_name in enumerate(parameter_names):\n",
    "        shifts = all_shifts[param_num]\n",
    "        shift_window_size = shift_window_sizes[param_num]\n",
    "        starting_ind = int(np.sum(shift_window_sizes[:param_num]))\n",
    "        param_kernel = coefs[starting_ind: starting_ind + shift_window_size]\n",
    "        axs[param_num].plot(shifts*100/10000, param_kernel, label=param_name)\n",
    "        axs[param_num].set_title(param_name)\n",
    "        axs[param_num].axvline([0])\n",
    "        axs[param_num].set_xlabel('Time (s)')"
   ]
  },
  {
   "cell_type": "code",
   "execution_count": 120,
   "metadata": {},
   "outputs": [
    {
     "data": {
      "text/plain": [
       "0.07208495587481378"
      ]
     },
     "execution_count": 120,
     "metadata": {},
     "output_type": "execute_result"
    }
   ],
   "source": [
    "all_param_indices, X = make_design_matrix(params_for_regression)\n",
    "results = LinearRegression().fit(X, trace_for_regression)\n",
    "results.score(X, trace_for_reg)"
   ]
  },
  {
   "cell_type": "code",
   "execution_count": 74,
   "metadata": {},
   "outputs": [
    {
     "data": {
      "text/plain": [
       "0.06192720698620613"
      ]
     },
     "execution_count": 74,
     "metadata": {},
     "output_type": "execute_result"
    }
   ],
   "source": [
    "all_param_indices, X = make_design_matrix(parameters)\n",
    "results = LinearRegression().fit(X, downsampled_zscored_dff)\n",
    "results.score(X, downsampled_zscored_dff)"
   ]
  },
  {
   "cell_type": "code",
   "execution_count": 327,
   "metadata": {},
   "outputs": [
    {
     "data": {
      "text/plain": [
       "0.06994657084118427"
      ]
     },
     "execution_count": 327,
     "metadata": {},
     "output_type": "execute_result"
    }
   ],
   "source": [
    "explained_variance_score(downsampled_zscored_dff, results.predict(X))"
   ]
  },
  {
   "cell_type": "code",
   "execution_count": 68,
   "metadata": {},
   "outputs": [],
   "source": [
    "param_names = ['high_cues', 'low_cues', 'ipsi_choices', 'contra_choices', 'rewards', 'no_rewards']\n",
    "plot_kernels(param_names, results.coef_)"
   ]
  },
  {
   "cell_type": "code",
   "execution_count": 22,
   "metadata": {},
   "outputs": [],
   "source": [
    "from sklearn.metrics import explained_variance_score,  mean_squared_error, r2_score, mean_tweedie_deviance"
   ]
  },
  {
   "cell_type": "code",
   "execution_count": 178,
   "metadata": {},
   "outputs": [],
   "source": [
    "def plot_params_and_trace(start_ind, num_samps, trace, parameters):\n",
    "    x = start_ind\n",
    "    inds = range(x,x+num_samps)\n",
    "    plt.plot(parameters[3][inds], label='contra choice')\n",
    "    plt.plot(parameters[4][inds], label='rewards')\n",
    "    plt.plot(parameters[2][inds], label='ipsi choice')\n",
    "    plt.plot(parameters[1][inds], label='low cues')\n",
    "    plt.plot(parameters[0][inds], label='high cues')\n",
    "    plt.plot(parameters[4][inds], label='reward')\n",
    "    plt.plot(parameters[5][inds], label='no reward')\n",
    "    plt.plot(trace[inds]/np.max(trace), label='zscore')\n",
    "    plt.legend()"
   ]
  },
  {
   "cell_type": "code",
   "execution_count": 282,
   "metadata": {},
   "outputs": [],
   "source": [
    "plot_params_and_trace(0, 96000, trace_for_regression, params_for_regression)"
   ]
  },
  {
   "cell_type": "code",
   "execution_count": 31,
   "metadata": {},
   "outputs": [
    {
     "ename": "NameError",
     "evalue": "name 'decimated_dff' is not defined",
     "output_type": "error",
     "traceback": [
      "\u001b[1;31m---------------------------------------------------------------------------\u001b[0m",
      "\u001b[1;31mNameError\u001b[0m                                 Traceback (most recent call last)",
      "\u001b[1;32m<ipython-input-31-b1efb3b53180>\u001b[0m in \u001b[0;36m<module>\u001b[1;34m\u001b[0m\n\u001b[1;32m----> 1\u001b[1;33m \u001b[0mplt\u001b[0m\u001b[1;33m.\u001b[0m\u001b[0mplot\u001b[0m\u001b[1;33m(\u001b[0m\u001b[0mdecimated_dff\u001b[0m\u001b[1;33m/\u001b[0m\u001b[0mnp\u001b[0m\u001b[1;33m.\u001b[0m\u001b[0mmax\u001b[0m\u001b[1;33m(\u001b[0m\u001b[0mdecimated_dff\u001b[0m\u001b[1;33m)\u001b[0m\u001b[1;33m,\u001b[0m \u001b[0mlabel\u001b[0m\u001b[1;33m=\u001b[0m\u001b[1;34m'dff'\u001b[0m\u001b[1;33m)\u001b[0m\u001b[1;33m\u001b[0m\u001b[1;33m\u001b[0m\u001b[0m\n\u001b[0m\u001b[0;32m      2\u001b[0m \u001b[0mplt\u001b[0m\u001b[1;33m.\u001b[0m\u001b[0mplot\u001b[0m\u001b[1;33m(\u001b[0m\u001b[0mdownsampled_zscored_dff\u001b[0m\u001b[1;33m/\u001b[0m\u001b[0mnp\u001b[0m\u001b[1;33m.\u001b[0m\u001b[0mmax\u001b[0m\u001b[1;33m(\u001b[0m\u001b[0mdownsampled_zscored_dff\u001b[0m\u001b[1;33m)\u001b[0m\u001b[1;33m,\u001b[0m \u001b[0mlabel\u001b[0m\u001b[1;33m=\u001b[0m\u001b[1;34m'zscore'\u001b[0m\u001b[1;33m)\u001b[0m\u001b[1;33m\u001b[0m\u001b[1;33m\u001b[0m\u001b[0m\n\u001b[0;32m      3\u001b[0m \u001b[0mplt\u001b[0m\u001b[1;33m.\u001b[0m\u001b[0mlegend\u001b[0m\u001b[1;33m(\u001b[0m\u001b[1;33m)\u001b[0m\u001b[1;33m\u001b[0m\u001b[1;33m\u001b[0m\u001b[0m\n",
      "\u001b[1;31mNameError\u001b[0m: name 'decimated_dff' is not defined"
     ]
    }
   ],
   "source": [
    "plt.plot(decimated_dff/np.max(decimated_dff), label='dff')\n",
    "plt.plot(downsampled_zscored_dff/np.max(downsampled_zscored_dff), label='zscore')\n",
    "plt.legend()"
   ]
  },
  {
   "cell_type": "code",
   "execution_count": 33,
   "metadata": {},
   "outputs": [],
   "source": [
    "def remove_one_parameter(param_names, params_to_remove, old_coefs, old_X, window_min=-0.5*10000/100, window_max=1.5*10000/100):\n",
    "    param_df = pd.DataFrame({'parameter': param_names})\n",
    "    params_to_include = param_df[~param_df['parameter'].isin(params_to_remove)]\n",
    "    params_to_include = params_to_include.reset_index(drop=False)\n",
    "    num_parameters = params_to_include.shape[0]\n",
    "    shifts = np.arange(window_min, window_max + 1)/100\n",
    "    shift_window_size = shifts.shape[0]\n",
    "    new_coefs = np.zeros([shift_window_size*num_parameters])\n",
    "    new_X = np.zeros([X.shape[0], shift_window_size*num_parameters])\n",
    "    for param_num, param_row in params_to_include.iterrows():\n",
    "        old_index = param_row['index']\n",
    "        new_index = param_num\n",
    "        param_kernel = old_coefs[old_index*shift_window_size:(old_index+1)*shift_window_size]\n",
    "        param_indices = range(new_index*shift_window_size,new_index*shift_window_size + shift_window_size)\n",
    "        new_coefs[param_indices] = param_kernel\n",
    "        old_X = X[:, old_index*shift_window_size:(old_index+1)*shift_window_size]\n",
    "        new_X[:, param_indices] = old_X\n",
    "    return new_coefs, new_X, params_to_include"
   ]
  },
  {
   "cell_type": "code",
   "execution_count": 36,
   "metadata": {},
   "outputs": [],
   "source": [
    "def include_parameters(param_names, params, old_coefs, old_X, window_min=-0.5*10000/100, window_max=1.5*10000/100):\n",
    "    param_df = pd.DataFrame({'parameter': param_names})\n",
    "    params_to_include = param_df[param_df['parameter'].isin(params)]\n",
    "    params_to_include = params_to_include.reset_index(drop=False)\n",
    "    num_parameters = params_to_include.shape[0]\n",
    "    shifts = np.arange(window_min, window_max + 1)/100\n",
    "    shift_window_size = shifts.shape[0]\n",
    "    new_coefs = np.zeros([shift_window_size*num_parameters])\n",
    "    new_X = np.zeros([X.shape[0], shift_window_size*num_parameters])\n",
    "    for param_num, param_row in params_to_include.iterrows():\n",
    "        old_index = param_row['index']\n",
    "        new_index = param_num\n",
    "        param_kernel = old_coefs[old_index*shift_window_size:(old_index+1)*shift_window_size]\n",
    "        param_indices = range(new_index*shift_window_size,new_index*shift_window_size + shift_window_size)\n",
    "        new_coefs[param_indices] = param_kernel\n",
    "        old_X = X[:, old_index*shift_window_size:(old_index+1)*shift_window_size]\n",
    "        new_X[:, param_indices] = old_X\n",
    "    return new_coefs, new_X, params_to_include"
   ]
  },
  {
   "cell_type": "code",
   "execution_count": 34,
   "metadata": {},
   "outputs": [],
   "source": [
    "def remove_param_and_calculate_r2(param_names, param_to_remove, old_coefs, old_X, intercept, dff):\n",
    "    new_coefs, new_X, params = remove_one_parameter(param_names, param_to_remove, old_coefs, old_X)\n",
    "    new_pred = np.dot(new_X, new_coefs) + intercept\n",
    "    old_pred = np.dot(old_X, old_coefs) + intercept\n",
    "    old_r2 = explained_variance_score(dff, old_pred)\n",
    "    new_r2 = explained_variance_score(dff, new_pred)\n",
    "    prop_due_to_param = (old_r2 - new_r2)/old_r2 * 100\n",
    "    print(old_r2, new_r2)\n",
    "    print(prop_due_to_param)\n",
    "    return new_pred, prop_due_to_param"
   ]
  },
  {
   "cell_type": "code",
   "execution_count": 38,
   "metadata": {},
   "outputs": [],
   "source": [
    "def include_params_and_calculate_r2(param_names, param_to_remove, old_coefs, old_X, intercept, dff):\n",
    "    new_coefs, new_X, params = include_parameters(param_names, param_to_remove, old_coefs, old_X)\n",
    "    new_pred = np.dot(new_X, new_coefs) + intercept\n",
    "    old_pred = np.dot(old_X, old_coefs) + intercept\n",
    "    old_r2 = explained_variance_score(dff, old_pred)\n",
    "    new_r2 = explained_variance_score(dff, new_pred)\n",
    "    prop_due_to_param = (new_r2)/old_r2 * 100\n",
    "    print(old_r2, new_r2)\n",
    "    print(prop_due_to_param)\n",
    "    return new_pred, prop_due_to_param"
   ]
  },
  {
   "cell_type": "code",
   "execution_count": 39,
   "metadata": {},
   "outputs": [
    {
     "ename": "NameError",
     "evalue": "name 'no_reward_pred' is not defined",
     "output_type": "error",
     "traceback": [
      "\u001b[1;31m---------------------------------------------------------------------------\u001b[0m",
      "\u001b[1;31mNameError\u001b[0m                                 Traceback (most recent call last)",
      "\u001b[1;32m<ipython-input-39-164ecccc02c4>\u001b[0m in \u001b[0;36m<module>\u001b[1;34m\u001b[0m\n\u001b[0;32m      2\u001b[0m \u001b[0mplt\u001b[0m\u001b[1;33m.\u001b[0m\u001b[0mplot\u001b[0m\u001b[1;33m(\u001b[0m\u001b[0mcue_pred\u001b[0m\u001b[1;33m)\u001b[0m\u001b[1;33m\u001b[0m\u001b[1;33m\u001b[0m\u001b[0m\n\u001b[0;32m      3\u001b[0m \u001b[0mplt\u001b[0m\u001b[1;33m.\u001b[0m\u001b[0mplot\u001b[0m\u001b[1;33m(\u001b[0m\u001b[0mreward_pred\u001b[0m\u001b[1;33m)\u001b[0m\u001b[1;33m\u001b[0m\u001b[1;33m\u001b[0m\u001b[0m\n\u001b[1;32m----> 4\u001b[1;33m \u001b[0mplt\u001b[0m\u001b[1;33m.\u001b[0m\u001b[0mplot\u001b[0m\u001b[1;33m(\u001b[0m\u001b[0mno_reward_pred\u001b[0m\u001b[1;33m)\u001b[0m\u001b[1;33m\u001b[0m\u001b[1;33m\u001b[0m\u001b[0m\n\u001b[0m\u001b[0;32m      5\u001b[0m \u001b[0mplt\u001b[0m\u001b[1;33m.\u001b[0m\u001b[0mplot\u001b[0m\u001b[1;33m(\u001b[0m\u001b[0mchoice_pred\u001b[0m\u001b[1;33m)\u001b[0m\u001b[1;33m\u001b[0m\u001b[1;33m\u001b[0m\u001b[0m\n\u001b[0;32m      6\u001b[0m \u001b[0mplt\u001b[0m\u001b[1;33m.\u001b[0m\u001b[0mplot\u001b[0m\u001b[1;33m(\u001b[0m\u001b[0mparameters\u001b[0m\u001b[1;33m[\u001b[0m\u001b[1;36m3\u001b[0m\u001b[1;33m]\u001b[0m\u001b[1;33m[\u001b[0m\u001b[0minds\u001b[0m\u001b[1;33m]\u001b[0m\u001b[1;33m,\u001b[0m \u001b[0mlabel\u001b[0m\u001b[1;33m=\u001b[0m\u001b[1;34m'contra choice'\u001b[0m\u001b[1;33m)\u001b[0m\u001b[1;33m\u001b[0m\u001b[1;33m\u001b[0m\u001b[0m\n",
      "\u001b[1;31mNameError\u001b[0m: name 'no_reward_pred' is not defined"
     ]
    }
   ],
   "source": [
    "plt.plot(downsampled_zscored_dff)\n",
    "plt.plot(cue_pred)\n",
    "plt.plot(reward_pred)\n",
    "plt.plot(choice_pred)\n",
    "plt.plot(parameters[3][inds], label='contra choice')\n",
    "plt.plot(parameters[4][inds], label='rewards')\n",
    "plt.plot(parameters[2][inds], label='ipsi choice')\n",
    "plt.plot(parameters[1][inds], label='low cues')\n",
    "plt.plot(parameters[0][inds], label='high cues')\n",
    "plt.plot(parameters[4][inds], label='reward')\n",
    "plt.plot(parameters[5][inds], label='no reward')"
   ]
  },
  {
   "cell_type": "code",
   "execution_count": 350,
   "metadata": {},
   "outputs": [],
   "source": [
    "# Contribution of each component in the model was measured by reduction of a deviance compared to a reduced model excluding the component."
   ]
  },
  {
   "cell_type": "code",
   "execution_count": 39,
   "metadata": {},
   "outputs": [],
   "source": [
    "total_pred = np.dot(X, results.coef_)"
   ]
  },
  {
   "cell_type": "code",
   "execution_count": 43,
   "metadata": {},
   "outputs": [
    {
     "data": {
      "text/plain": [
       "(1206,)"
      ]
     },
     "execution_count": 43,
     "metadata": {},
     "output_type": "execute_result"
    }
   ],
   "source": [
    "def exp_var(trace, pred):\n",
    "    var_trace = "
   ]
  },
  {
   "cell_type": "code",
   "execution_count": 40,
   "metadata": {},
   "outputs": [
    {
     "name": "stdout",
     "output_type": "stream",
     "text": [
      "0.10678892213702296 0.012383118483492828\n",
      "11.595883014535726\n",
      "0.10678892213702296 0.08827435305127429\n",
      "82.66246281426808\n",
      "0.10678892213702296 -0.005713603484430729\n",
      "-5.350370965538441\n"
     ]
    }
   ],
   "source": [
    "param_names = ['high_cues', 'low_cues', 'ipsi_choices', 'contra_choices', 'rewards', 'no_rewards']\n",
    "params_to_remove = ['high_cues', 'low_cues']\n",
    "cue_pred, prop_due_to_cue = include_params_and_calculate_r2(param_names, params_to_remove, results.coef_, X, results.intercept_, trace_for_reg)\n",
    "params_to_remove = ['ipsi_choices', 'contra_choices']\n",
    "choice_pred, prop_due_to_choice = include_params_and_calculate_r2(param_names, params_to_remove, results.coef_, X,  results.intercept_, trace_for_reg)\n",
    "params_to_remove = ['rewards', 'no_rewards']\n",
    "reward_pred, prop_due_to_param = include_params_and_calculate_r2(param_names, params_to_remove, results.coef_, X,results.intercept_, trace_for_reg)"
   ]
  },
  {
   "cell_type": "code",
   "execution_count": 255,
   "metadata": {},
   "outputs": [
    {
     "name": "stdout",
     "output_type": "stream",
     "text": [
      "0.4700672078543989 0.46524239749790863\n",
      "1.026408623250477\n",
      "0.4700672078543989 0.40418262625665047\n",
      "14.015991861775623\n",
      "0.4700672078543989 -0.021216401515595562\n",
      "104.51348257463798\n"
     ]
    }
   ],
   "source": [
    "param_names = ['high_cues', 'low_cues', 'ipsi_choices', 'contra_choices', 'rewards', 'no_rewards']\n",
    "params_to_remove = ['high_cues', 'low_cues']\n",
    "cue_pred, prop_due_to_cue = remove_param_and_calculate_r2(param_names, params_to_remove, results.coef_, X, results.intercept_, trace_for_reg)\n",
    "params_to_remove = ['ipsi_choices', 'contra_choices']\n",
    "choice_pred, prop_due_to_choice = remove_param_and_calculate_r2(param_names, params_to_remove, results.coef_, X,  results.intercept_, trace_for_reg)\n",
    "params_to_remove = ['rewards', 'no_rewards']\n",
    "reward_pred, prop_due_to_param = remove_param_and_calculate_r2(param_names, params_to_remove, results.coef_, X,results.intercept_, trace_for_reg)"
   ]
  },
  {
   "cell_type": "code",
   "execution_count": 38,
   "metadata": {},
   "outputs": [
    {
     "name": "stdout",
     "output_type": "stream",
     "text": [
      "0.1860901417942734 -0.007635543157750835\n",
      "104.10314221061323\n"
     ]
    }
   ],
   "source": [
    "params_to_remove = ['rewards']\n",
    "reward_pred, prop_due_to_param = remove_param_and_calculate_r2(param_names, params_to_remove, results.coef_, X,results.intercept_, trace_for_reg)"
   ]
  },
  {
   "cell_type": "code",
   "execution_count": 42,
   "metadata": {},
   "outputs": [
    {
     "data": {
      "text/plain": [
       "100.0"
      ]
     },
     "execution_count": 42,
     "metadata": {},
     "output_type": "execute_result"
    }
   ],
   "source": [
    "\n",
    "old_pred = np.dot(X, results.coef_) + results.intercept_\n",
    "new_pred = np.ones(old_pred.shape)* results.intercept_\n",
    "old_r2 = explained_variance_score(trace_for_reg, old_pred)\n",
    "new_r2 = explained_variance_score(trace_for_reg, new_pred)\n",
    "(old_r2 - new_r2)/old_r2 * 100"
   ]
  },
  {
   "cell_type": "code",
   "execution_count": 42,
   "metadata": {},
   "outputs": [
    {
     "data": {
      "text/plain": [
       "<matplotlib.legend.Legend at 0x1d51c6a0>"
      ]
     },
     "execution_count": 42,
     "metadata": {},
     "output_type": "execute_result"
    }
   ],
   "source": [
    "inds = np.arange(160000, trace_for_reg.shape[0])\n",
    "plt.plot(trace_for_reg[inds],label='trace', color='k', alpha=0.2)\n",
    "plt.plot(cue_pred[inds], label='cue')\n",
    "plt.plot(choice_pred[inds], label = 'choice')\n",
    "plt.plot(reward_pred[inds], label = 'reward')\n",
    "plt.plot(params_for_reg[3][inds], label='contra choice')\n",
    "plt.plot(params_for_reg[4][inds], label='rewards')\n",
    "#plt.plot(params_for_regression[2][inds], label='ipsi choice')\n",
    "#plt.plot(params_for_regression[1][inds], label='low cues')\n",
    "plt.plot(params_for_reg[4][inds], label='reward')\n",
    "plt.plot(params_for_reg[5][inds], label='no reward')\n",
    "plt.plot(params_for_reg[1][inds], label='low cues')\n",
    "#plt.plot(total_pred[inds], label='model', color='y')\n",
    "plt.legend()"
   ]
  },
  {
   "cell_type": "code",
   "execution_count": 72,
   "metadata": {},
   "outputs": [
    {
     "name": "stdout",
     "output_type": "stream",
     "text": [
      "0.3437221932443679 0.004668395994980701\n",
      "1.3581887020201002\n",
      "0.3437221932443679 0.3377332123343795\n",
      "1.742389938065654\n"
     ]
    }
   ],
   "source": [
    "params_to_remove = ['high_cues', 'low_cues']\n",
    "cue_pred, prop_due_to_cue = remove_param_and_calculate_r2(param_names, params_to_remove, results.coef_, X, results.intercept_, downsampled_zscored_dff)"
   ]
  },
  {
   "cell_type": "code",
   "execution_count": 83,
   "metadata": {
    "scrolled": true
   },
   "outputs": [
    {
     "name": "stdout",
     "output_type": "stream",
     "text": [
      "0.06363158444930539 0.02094875620721326\n",
      "32.921946527833065\n",
      "0.06363158444930539 0.024072359131555365\n",
      "62.169165926186295\n"
     ]
    }
   ],
   "source": [
    "params_to_remove = ['ipsi_choices', 'contra_choices']\n",
    "choice_pred, prop_due_to_choice = include_params_and_calculate_r2(param_names, params_to_remove, results.coef_, X,  results.intercept_, trace_for_regression)\n",
    "choice_pred, prop_due_to_choice = remove_param_and_calculate_r2(param_names, params_to_remove, results.coef_, X,  results.intercept_, trace_for_regression)"
   ]
  },
  {
   "cell_type": "code",
   "execution_count": 78,
   "metadata": {},
   "outputs": [
    {
     "name": "stdout",
     "output_type": "stream",
     "text": [
      "0.3437221932443679 0.23574087404276955\n",
      "68.5847113384298\n",
      "0.3437221932443679 0.023876094529398095\n",
      "93.05366514043408\n"
     ]
    }
   ],
   "source": [
    "params_to_remove = ['rewards', 'no_rewards']\n",
    "reward_pred, prop_due_to_param = include_params_and_calculate_r2(param_names, params_to_remove, results.coef_, X,results.intercept_, downsampled_zscored_dff)\n",
    "reward_pred, prop_due_to_param = remove_param_and_calculate_r2(param_names, params_to_remove, results.coef_, X,results.intercept_, downsampled_zscored_dff)"
   ]
  },
  {
   "cell_type": "code",
   "execution_count": 77,
   "metadata": {},
   "outputs": [
    {
     "name": "stdout",
     "output_type": "stream",
     "text": [
      "0.3437221932443679 0.3327044425436263\n",
      "3.2054231345220696\n"
     ]
    }
   ],
   "source": [
    "params_to_remove = ['no_rewards']\n",
    "\n",
    "no_reward_pred, prop_due_to_param = remove_param_and_calculate_r2(param_names, params_to_remove, results.coef_, X, results.intercept_, downsampled_zscored_dff)"
   ]
  },
  {
   "cell_type": "code",
   "execution_count": 76,
   "metadata": {},
   "outputs": [
    {
     "data": {
      "text/plain": [
       "79.80769494955997"
      ]
     },
     "execution_count": 76,
     "metadata": {},
     "output_type": "execute_result"
    }
   ],
   "source": [
    "5.11348747238289 + 68.5847113384298 + 4.751307436727189 + 1.3581887020201002"
   ]
  },
  {
   "cell_type": "code",
   "execution_count": 317,
   "metadata": {},
   "outputs": [],
   "source": [
    "predictors = X\n",
    "divisor = float(predictors.shape[0] - predictors.shape[1])\n",
    "outcomes = downsampled_zscored_dff\n",
    "sse = np.sum((total_pred - outcomes) ** 2, axis=0) / divisor\n",
    "if not sse.shape:\n",
    "    se = np.array([np.sqrt(np.diagonal(sse * np.linalg.inv(np.dot(predictors.T, predictors))))])\n",
    "else:\n",
    "    se = np.array(\n",
    "        [\n",
    "            np.sqrt(\n",
    "                np.diagonal(\n",
    "                    sse[i] * np.linalg.inv(np.dot(predictors.T, predictors))\n",
    "                )\n",
    "            )\n",
    "            for i in range(sse.shape[0])\n",
    "        ]\n",
    "    )\n",
    "t_values = results.coef_ / se\n",
    "p_values = 2 * (\n",
    "    1 - stats.t.cdf(np.abs(t_values), outcomes.shape[0] - predictors.shape[1])\n",
    ")\n"
   ]
  },
  {
   "cell_type": "code",
   "execution_count": 277,
   "metadata": {},
   "outputs": [
    {
     "data": {
      "text/plain": [
       "array([[0.08107052, 0.08107052, 0.08106907, ..., 0.07705439, 0.07705577,\n",
       "        0.07705577]])"
      ]
     },
     "execution_count": 277,
     "metadata": {},
     "output_type": "execute_result"
    }
   ],
   "source": [
    "np.array([np.sqrt(np.diagonal(sse * np.linalg.inv(np.dot(predictors.T, predictors))))])"
   ]
  },
  {
   "cell_type": "code",
   "execution_count": 30,
   "metadata": {},
   "outputs": [
    {
     "data": {
      "text/plain": [
       "<matplotlib.legend.Legend at 0x2f932dd8>"
      ]
     },
     "execution_count": 30,
     "metadata": {},
     "output_type": "execute_result"
    }
   ],
   "source": [
    "plt.plot(cue_pred, label='cue')\n",
    "plt.plot(choice_pred, label = 'choice')\n",
    "plt.plot(reward_pred, label = 'reward')\n",
    "plt.legend()"
   ]
  },
  {
   "cell_type": "code",
   "execution_count": 255,
   "metadata": {},
   "outputs": [
    {
     "name": "stdout",
     "output_type": "stream",
     "text": [
      "0.19382222321776876 0.03147393529840614\n"
     ]
    }
   ],
   "source": [
    "old_r2 = explained_variance_score(downsampled_zscored_dff, old_pred)\n",
    "new_r2 = explained_variance_score(downsampled_zscored_dff, new_pred)\n",
    "print(old_r2, new_r2)"
   ]
  },
  {
   "cell_type": "code",
   "execution_count": 256,
   "metadata": {},
   "outputs": [
    {
     "name": "stdout",
     "output_type": "stream",
     "text": [
      "0.1834066816753005 0.030968894328113894\n"
     ]
    }
   ],
   "source": [
    "old_r2 = r2_score(downsampled_zscored_dff, old_pred)\n",
    "new_r2 = r2_score(downsampled_zscored_dff, new_pred)\n",
    "print(old_r2, new_r2)"
   ]
  },
  {
   "cell_type": "code",
   "execution_count": 257,
   "metadata": {},
   "outputs": [
    {
     "ename": "ValueError",
     "evalue": "Mean Tweedie deviance error with power=1 can only be used on non-negative y and strictly positive y_pred.",
     "output_type": "error",
     "traceback": [
      "\u001b[1;31m---------------------------------------------------------------------------\u001b[0m",
      "\u001b[1;31mValueError\u001b[0m                                Traceback (most recent call last)",
      "\u001b[1;32m<ipython-input-257-149c2e471941>\u001b[0m in \u001b[0;36m<module>\u001b[1;34m\u001b[0m\n\u001b[0;32m      1\u001b[0m \u001b[1;32mfrom\u001b[0m \u001b[0msklearn\u001b[0m\u001b[1;33m.\u001b[0m\u001b[0mmetrics\u001b[0m \u001b[1;32mimport\u001b[0m \u001b[0mmean_poisson_deviance\u001b[0m\u001b[1;33m\u001b[0m\u001b[1;33m\u001b[0m\u001b[0m\n\u001b[1;32m----> 2\u001b[1;33m \u001b[0mold_r2\u001b[0m \u001b[1;33m=\u001b[0m \u001b[0mmean_poisson_deviance\u001b[0m\u001b[1;33m(\u001b[0m\u001b[0mdownsampled_zscored_dff\u001b[0m\u001b[1;33m,\u001b[0m \u001b[0mold_pred\u001b[0m\u001b[1;33m)\u001b[0m\u001b[1;33m\u001b[0m\u001b[1;33m\u001b[0m\u001b[0m\n\u001b[0m\u001b[0;32m      3\u001b[0m \u001b[0mnew_r2\u001b[0m \u001b[1;33m=\u001b[0m \u001b[0mmean_poisson_deviance\u001b[0m\u001b[1;33m(\u001b[0m\u001b[0mdownsampled_zscored_dff\u001b[0m\u001b[1;33m,\u001b[0m \u001b[0mnew_pred\u001b[0m\u001b[1;33m)\u001b[0m\u001b[1;33m\u001b[0m\u001b[1;33m\u001b[0m\u001b[0m\n\u001b[0;32m      4\u001b[0m \u001b[0mprint\u001b[0m\u001b[1;33m(\u001b[0m\u001b[0mold_r2\u001b[0m\u001b[1;33m,\u001b[0m \u001b[0mnew_r2\u001b[0m\u001b[1;33m)\u001b[0m\u001b[1;33m\u001b[0m\u001b[1;33m\u001b[0m\u001b[0m\n",
      "\u001b[1;32m~\\AppData\\Local\\Continuum\\miniconda3\\lib\\site-packages\\sklearn\\utils\\validation.py\u001b[0m in \u001b[0;36minner_f\u001b[1;34m(*args, **kwargs)\u001b[0m\n\u001b[0;32m     71\u001b[0m                           FutureWarning)\n\u001b[0;32m     72\u001b[0m         \u001b[0mkwargs\u001b[0m\u001b[1;33m.\u001b[0m\u001b[0mupdate\u001b[0m\u001b[1;33m(\u001b[0m\u001b[1;33m{\u001b[0m\u001b[0mk\u001b[0m\u001b[1;33m:\u001b[0m \u001b[0marg\u001b[0m \u001b[1;32mfor\u001b[0m \u001b[0mk\u001b[0m\u001b[1;33m,\u001b[0m \u001b[0marg\u001b[0m \u001b[1;32min\u001b[0m \u001b[0mzip\u001b[0m\u001b[1;33m(\u001b[0m\u001b[0msig\u001b[0m\u001b[1;33m.\u001b[0m\u001b[0mparameters\u001b[0m\u001b[1;33m,\u001b[0m \u001b[0margs\u001b[0m\u001b[1;33m)\u001b[0m\u001b[1;33m}\u001b[0m\u001b[1;33m)\u001b[0m\u001b[1;33m\u001b[0m\u001b[1;33m\u001b[0m\u001b[0m\n\u001b[1;32m---> 73\u001b[1;33m         \u001b[1;32mreturn\u001b[0m \u001b[0mf\u001b[0m\u001b[1;33m(\u001b[0m\u001b[1;33m**\u001b[0m\u001b[0mkwargs\u001b[0m\u001b[1;33m)\u001b[0m\u001b[1;33m\u001b[0m\u001b[1;33m\u001b[0m\u001b[0m\n\u001b[0m\u001b[0;32m     74\u001b[0m     \u001b[1;32mreturn\u001b[0m \u001b[0minner_f\u001b[0m\u001b[1;33m\u001b[0m\u001b[1;33m\u001b[0m\u001b[0m\n\u001b[0;32m     75\u001b[0m \u001b[1;33m\u001b[0m\u001b[0m\n",
      "\u001b[1;32m~\\AppData\\Local\\Continuum\\miniconda3\\lib\\site-packages\\sklearn\\metrics\\_regression.py\u001b[0m in \u001b[0;36mmean_poisson_deviance\u001b[1;34m(y_true, y_pred, sample_weight)\u001b[0m\n\u001b[0;32m    763\u001b[0m     \"\"\"\n\u001b[0;32m    764\u001b[0m     return mean_tweedie_deviance(\n\u001b[1;32m--> 765\u001b[1;33m         \u001b[0my_true\u001b[0m\u001b[1;33m,\u001b[0m \u001b[0my_pred\u001b[0m\u001b[1;33m,\u001b[0m \u001b[0msample_weight\u001b[0m\u001b[1;33m=\u001b[0m\u001b[0msample_weight\u001b[0m\u001b[1;33m,\u001b[0m \u001b[0mpower\u001b[0m\u001b[1;33m=\u001b[0m\u001b[1;36m1\u001b[0m\u001b[1;33m\u001b[0m\u001b[1;33m\u001b[0m\u001b[0m\n\u001b[0m\u001b[0;32m    766\u001b[0m     )\n\u001b[0;32m    767\u001b[0m \u001b[1;33m\u001b[0m\u001b[0m\n",
      "\u001b[1;32m~\\AppData\\Local\\Continuum\\miniconda3\\lib\\site-packages\\sklearn\\utils\\validation.py\u001b[0m in \u001b[0;36minner_f\u001b[1;34m(*args, **kwargs)\u001b[0m\n\u001b[0;32m     71\u001b[0m                           FutureWarning)\n\u001b[0;32m     72\u001b[0m         \u001b[0mkwargs\u001b[0m\u001b[1;33m.\u001b[0m\u001b[0mupdate\u001b[0m\u001b[1;33m(\u001b[0m\u001b[1;33m{\u001b[0m\u001b[0mk\u001b[0m\u001b[1;33m:\u001b[0m \u001b[0marg\u001b[0m \u001b[1;32mfor\u001b[0m \u001b[0mk\u001b[0m\u001b[1;33m,\u001b[0m \u001b[0marg\u001b[0m \u001b[1;32min\u001b[0m \u001b[0mzip\u001b[0m\u001b[1;33m(\u001b[0m\u001b[0msig\u001b[0m\u001b[1;33m.\u001b[0m\u001b[0mparameters\u001b[0m\u001b[1;33m,\u001b[0m \u001b[0margs\u001b[0m\u001b[1;33m)\u001b[0m\u001b[1;33m}\u001b[0m\u001b[1;33m)\u001b[0m\u001b[1;33m\u001b[0m\u001b[1;33m\u001b[0m\u001b[0m\n\u001b[1;32m---> 73\u001b[1;33m         \u001b[1;32mreturn\u001b[0m \u001b[0mf\u001b[0m\u001b[1;33m(\u001b[0m\u001b[1;33m**\u001b[0m\u001b[0mkwargs\u001b[0m\u001b[1;33m)\u001b[0m\u001b[1;33m\u001b[0m\u001b[1;33m\u001b[0m\u001b[0m\n\u001b[0m\u001b[0;32m     74\u001b[0m     \u001b[1;32mreturn\u001b[0m \u001b[0minner_f\u001b[0m\u001b[1;33m\u001b[0m\u001b[1;33m\u001b[0m\u001b[0m\n\u001b[0;32m     75\u001b[0m \u001b[1;33m\u001b[0m\u001b[0m\n",
      "\u001b[1;32m~\\AppData\\Local\\Continuum\\miniconda3\\lib\\site-packages\\sklearn\\metrics\\_regression.py\u001b[0m in \u001b[0;36mmean_tweedie_deviance\u001b[1;34m(y_true, y_pred, sample_weight, power)\u001b[0m\n\u001b[0;32m    724\u001b[0m \u001b[1;33m\u001b[0m\u001b[0m\n\u001b[0;32m    725\u001b[0m     \u001b[0mdist\u001b[0m \u001b[1;33m=\u001b[0m \u001b[0mTweedieDistribution\u001b[0m\u001b[1;33m(\u001b[0m\u001b[0mpower\u001b[0m\u001b[1;33m=\u001b[0m\u001b[0mpower\u001b[0m\u001b[1;33m)\u001b[0m\u001b[1;33m\u001b[0m\u001b[1;33m\u001b[0m\u001b[0m\n\u001b[1;32m--> 726\u001b[1;33m     \u001b[0mdev\u001b[0m \u001b[1;33m=\u001b[0m \u001b[0mdist\u001b[0m\u001b[1;33m.\u001b[0m\u001b[0munit_deviance\u001b[0m\u001b[1;33m(\u001b[0m\u001b[0my_true\u001b[0m\u001b[1;33m,\u001b[0m \u001b[0my_pred\u001b[0m\u001b[1;33m,\u001b[0m \u001b[0mcheck_input\u001b[0m\u001b[1;33m=\u001b[0m\u001b[1;32mTrue\u001b[0m\u001b[1;33m)\u001b[0m\u001b[1;33m\u001b[0m\u001b[1;33m\u001b[0m\u001b[0m\n\u001b[0m\u001b[0;32m    727\u001b[0m \u001b[1;33m\u001b[0m\u001b[0m\n\u001b[0;32m    728\u001b[0m     \u001b[1;32mreturn\u001b[0m \u001b[0mnp\u001b[0m\u001b[1;33m.\u001b[0m\u001b[0maverage\u001b[0m\u001b[1;33m(\u001b[0m\u001b[0mdev\u001b[0m\u001b[1;33m,\u001b[0m \u001b[0mweights\u001b[0m\u001b[1;33m=\u001b[0m\u001b[0msample_weight\u001b[0m\u001b[1;33m)\u001b[0m\u001b[1;33m\u001b[0m\u001b[1;33m\u001b[0m\u001b[0m\n",
      "\u001b[1;32m~\\AppData\\Local\\Continuum\\miniconda3\\lib\\site-packages\\sklearn\\_loss\\glm_distribution.py\u001b[0m in \u001b[0;36munit_deviance\u001b[1;34m(self, y, y_pred, check_input)\u001b[0m\n\u001b[0;32m    288\u001b[0m                 \u001b[1;31m# Poisson and Compount poisson distribution, y >= 0, y_pred > 0\u001b[0m\u001b[1;33m\u001b[0m\u001b[1;33m\u001b[0m\u001b[1;33m\u001b[0m\u001b[0m\n\u001b[0;32m    289\u001b[0m                 \u001b[1;32mif\u001b[0m \u001b[1;33m(\u001b[0m\u001b[0my\u001b[0m \u001b[1;33m<\u001b[0m \u001b[1;36m0\u001b[0m\u001b[1;33m)\u001b[0m\u001b[1;33m.\u001b[0m\u001b[0many\u001b[0m\u001b[1;33m(\u001b[0m\u001b[1;33m)\u001b[0m \u001b[1;32mor\u001b[0m \u001b[1;33m(\u001b[0m\u001b[0my_pred\u001b[0m \u001b[1;33m<=\u001b[0m \u001b[1;36m0\u001b[0m\u001b[1;33m)\u001b[0m\u001b[1;33m.\u001b[0m\u001b[0many\u001b[0m\u001b[1;33m(\u001b[0m\u001b[1;33m)\u001b[0m\u001b[1;33m:\u001b[0m\u001b[1;33m\u001b[0m\u001b[1;33m\u001b[0m\u001b[0m\n\u001b[1;32m--> 290\u001b[1;33m                     raise ValueError(message + \"non-negative y and strictly \"\n\u001b[0m\u001b[0;32m    291\u001b[0m                                      \"positive y_pred.\")\n\u001b[0;32m    292\u001b[0m             \u001b[1;32melif\u001b[0m \u001b[0mp\u001b[0m \u001b[1;33m>=\u001b[0m \u001b[1;36m2\u001b[0m\u001b[1;33m:\u001b[0m\u001b[1;33m\u001b[0m\u001b[1;33m\u001b[0m\u001b[0m\n",
      "\u001b[1;31mValueError\u001b[0m: Mean Tweedie deviance error with power=1 can only be used on non-negative y and strictly positive y_pred."
     ]
    }
   ],
   "source": [
    "from sklearn.metrics import mean_poisson_deviance\n",
    "old_r2 = r2_score(downsampled_zscored_dff, old_pred)\n",
    "new_r2 = r2_score(downsampled_zscored_dff, new_pred)\n",
    "print(old_r2, new_r2)"
   ]
  },
  {
   "cell_type": "code",
   "execution_count": 22,
   "metadata": {},
   "outputs": [
    {
     "ename": "NameError",
     "evalue": "name 'results' is not defined",
     "output_type": "error",
     "traceback": [
      "\u001b[1;31m---------------------------------------------------------------------------\u001b[0m",
      "\u001b[1;31mNameError\u001b[0m                                 Traceback (most recent call last)",
      "\u001b[1;32m<ipython-input-22-1d80d269fee8>\u001b[0m in \u001b[0;36m<module>\u001b[1;34m\u001b[0m\n\u001b[0;32m      1\u001b[0m \u001b[0mx\u001b[0m \u001b[1;33m=\u001b[0m \u001b[1;36m80000\u001b[0m\u001b[1;33m\u001b[0m\u001b[1;33m\u001b[0m\u001b[0m\n\u001b[0;32m      2\u001b[0m \u001b[0minds\u001b[0m \u001b[1;33m=\u001b[0m \u001b[0mrange\u001b[0m\u001b[1;33m(\u001b[0m\u001b[0mx\u001b[0m\u001b[1;33m,\u001b[0m\u001b[0mx\u001b[0m\u001b[1;33m+\u001b[0m\u001b[1;36m5000\u001b[0m\u001b[1;33m)\u001b[0m\u001b[1;33m\u001b[0m\u001b[1;33m\u001b[0m\u001b[0m\n\u001b[1;32m----> 3\u001b[1;33m \u001b[0mplt\u001b[0m\u001b[1;33m.\u001b[0m\u001b[0mplot\u001b[0m\u001b[1;33m(\u001b[0m\u001b[0mresults\u001b[0m\u001b[1;33m.\u001b[0m\u001b[0mpredict\u001b[0m\u001b[1;33m(\u001b[0m\u001b[0mX\u001b[0m\u001b[1;33m[\u001b[0m\u001b[0minds\u001b[0m\u001b[1;33m]\u001b[0m\u001b[1;33m)\u001b[0m\u001b[1;33m)\u001b[0m\u001b[1;33m\u001b[0m\u001b[1;33m\u001b[0m\u001b[0m\n\u001b[0m\u001b[0;32m      4\u001b[0m \u001b[0mplt\u001b[0m\u001b[1;33m.\u001b[0m\u001b[0mplot\u001b[0m\u001b[1;33m(\u001b[0m\u001b[0mdownsampled_zscored_dff\u001b[0m\u001b[1;33m[\u001b[0m\u001b[0minds\u001b[0m\u001b[1;33m]\u001b[0m\u001b[1;33m)\u001b[0m\u001b[1;33m\u001b[0m\u001b[1;33m\u001b[0m\u001b[0m\n\u001b[0;32m      5\u001b[0m \u001b[0mplt\u001b[0m\u001b[1;33m.\u001b[0m\u001b[0mplot\u001b[0m\u001b[1;33m(\u001b[0m\u001b[0mparameters\u001b[0m\u001b[1;33m[\u001b[0m\u001b[1;36m3\u001b[0m\u001b[1;33m]\u001b[0m\u001b[1;33m[\u001b[0m\u001b[0minds\u001b[0m\u001b[1;33m]\u001b[0m\u001b[1;33m)\u001b[0m\u001b[1;33m\u001b[0m\u001b[1;33m\u001b[0m\u001b[0m\n",
      "\u001b[1;31mNameError\u001b[0m: name 'results' is not defined"
     ]
    }
   ],
   "source": [
    "x = 80000\n",
    "inds = range(x,x+5000)\n",
    "plt.plot(results.predict(X[inds]))\n",
    "plt.plot(downsampled_zscored_dff[inds])\n",
    "plt.plot(parameters[3][inds])"
   ]
  },
  {
   "cell_type": "code",
   "execution_count": 151,
   "metadata": {},
   "outputs": [],
   "source": [
    "def save_kernels(parameter_names, regression_results,  window_min=-1 * 10000 / 100, window_max=2 * 10000 / 100):\n",
    "\n",
    "    shifts = np.arange(window_min, window_max + 1) / 100\n",
    "    shift_window_size = shifts.shape[0]\n",
    "    param_kernels = {}\n",
    "    for param_num, param_name in enumerate(parameter_names):\n",
    "        kernel_name = parameter_names[param_num]\n",
    "        param_kernels[kernel_name] = regression_results.coef_[param_num * shift_window_size:(param_num + 1) * shift_window_size]\n",
    "    return param_kernels, shifts"
   ]
  },
  {
   "cell_type": "code",
   "execution_count": 152,
   "metadata": {},
   "outputs": [
    {
     "data": {
      "text/plain": [
       "[<matplotlib.lines.Line2D at 0xc5d6c88>]"
      ]
     },
     "execution_count": 152,
     "metadata": {},
     "output_type": "execute_result"
    }
   ],
   "source": [
    "plt.plot(save_kernels(param_names, results)[1], save_kernels(param_names, results)[0]['ipsi choices'])"
   ]
  },
  {
   "cell_type": "code",
   "execution_count": null,
   "metadata": {},
   "outputs": [],
   "source": []
  }
 ],
 "metadata": {
  "kernelspec": {
   "display_name": "Python 3",
   "language": "python",
   "name": "python3"
  },
  "language_info": {
   "codemirror_mode": {
    "name": "ipython",
    "version": 3
   },
   "file_extension": ".py",
   "mimetype": "text/x-python",
   "name": "python",
   "nbconvert_exporter": "python",
   "pygments_lexer": "ipython3",
   "version": "3.7.3"
  }
 },
 "nbformat": 4,
 "nbformat_minor": 4
}
