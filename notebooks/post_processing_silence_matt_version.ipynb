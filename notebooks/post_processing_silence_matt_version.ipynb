{
 "cells": [
  {
   "cell_type": "code",
   "execution_count": null,
   "metadata": {},
   "outputs": [],
   "source": [
    "%load_ext autoreload\n",
    "%autoreload 2\n",
    "%matplotlib qt5\n",
    "# Add modules to the path\n",
    "import sys\n",
    "sys.path.insert(0, 'C:\\\\Users\\\\francescag\\\\Documents\\\\SourceTree_repos\\\\Python_git')\n",
    "sys.path.insert(0, 'C:\\\\Users\\\\francescag\\\\Documents\\\\SourceTree_repos')\n",
    "sys.path.insert(0, 'C:\\\\Users\\\\francescag\\\\Documents\\\\SourceTree_repos\\\\Python_git\\\\freely_moving_photometry_analysis' )\n",
    "\n",
    "import matplotlib\n",
    "import copy\n",
    "import matplotlib.pyplot as plt\n",
    "import numpy as np\n",
    "import matplotlib.cm as cm\n",
    "import pandas as pd\n",
    "import pickle\n",
    "from scipy.signal import decimate\n",
    "from utils.plotting import HeatMapParams\n",
    "from utils.plotting import heat_map_and_mean, plot_one_side, calculate_error_bars\n",
    "from utils.plotting import get_photometry_around_event\n",
    "from scipy import stats\n",
    "from utils.individual_trial_analysis_utils import ZScoredTraces, SessionData, CueAlignedData, CueAlignedSidedData, ChoiceAlignedData"
   ]
  },
  {
   "cell_type": "code",
   "execution_count": null,
   "metadata": {},
   "outputs": [],
   "source": [
    "def get_all_experimental_records():\n",
    "    experiment_record = pd.read_csv('T:\\\\photometry_2AC\\\\experimental_record.csv', dtype='str')\n",
    "    experiment_record['date'] = experiment_record['date'].astype(str)\n",
    "    return experiment_record"
   ]
  },
  {
   "cell_type": "code",
   "execution_count": null,
   "metadata": {},
   "outputs": [],
   "source": [
    "def open_experiment(experiment_to_add):\n",
    "    for index, experiment in experiment_to_add.iterrows():\n",
    "        #saving_folder = 'S:\\\\users\\\\Yvonne\\\\photometry_2AC\\\\processed_data\\\\' + experiment['mouse_id'] + '\\\\'\n",
    "        saving_folder = 'T:\\\\photometry_2AC\\\\processed_data\\\\' + experiment['mouse_id'] + '\\\\'\n",
    "        #saving_folder = 'C:\\\\Users\\\\francescag\\\\Documents\\\\PhD_Project\\\\SNL_photo_photometry\\\\processed_data' + experiment['mouse_id']  + '\\\\'\n",
    "        restructured_data_filename = experiment['mouse_id'] + '_' + experiment['date'] + '_' + 'restructured_data.pkl'\n",
    "        trial_data = pd.read_pickle(saving_folder + restructured_data_filename)\n",
    "        dff_trace_filename = experiment['mouse_id'] + '_' + experiment['date'] + '_' + 'smoothed_signal.npy'\n",
    "        dff = np.load(saving_folder + dff_trace_filename)\n",
    "        session_traces = SessionData(experiment['fiber_side'], experiment['recording_site'], experiment['mouse_id'], experiment['date'])\n",
    "    return session_traces"
   ]
  },
  {
   "cell_type": "code",
   "execution_count": null,
   "metadata": {},
   "outputs": [],
   "source": [
    "class CustomAlignedData(object):\n",
    "    def __init__(self, session_data, params):\n",
    "        #saving_folder = 'S:\\\\users\\\\Yvonne\\\\photometry_2AC\\\\processed_data\\\\' + session_data.mouse + '\\\\'\n",
    "        saving_folder = 'T:\\\\photometry_2AC\\\\processed_data\\\\' + session_data.mouse + '\\\\'\n",
    "        #saving_folder = 'C:\\\\Users\\\\francescag\\\\Documents\\\\PhD_Project\\\\SNL_photo_photometry\\\\processed_data' + session_data.mouse + '\\\\'\n",
    "        restructured_data_filename = session_data.mouse + '_' + session_data.date + '_' + 'restructured_data.pkl'\n",
    "        trial_data = pd.read_pickle(saving_folder + restructured_data_filename)\n",
    "        dff_trace_filename = session_data.mouse + '_' + session_data.date + '_' + 'smoothed_signal.npy'\n",
    "        dff = np.load(saving_folder + dff_trace_filename)\n",
    "\n",
    "        fiber_options = np.array(['left', 'right'])\n",
    "        fiber_side_numeric = (np.where(fiber_options == session_data.fiber_side)[0] + 1)[0]\n",
    "        contra_fiber_side_numeric = (np.where(fiber_options != session_data.fiber_side)[0] + 1)[0]\n",
    "\n",
    "        self.ipsi_data = ZScoredTraces(trial_data, dff, params, fiber_side_numeric, 0)\n",
    "        self.ipsi_data.get_peaks()\n",
    "        self.contra_data = ZScoredTraces(trial_data, dff,params, contra_fiber_side_numeric, 0)\n",
    "        self.contra_data.get_peaks()"
   ]
  },
  {
   "cell_type": "code",
   "execution_count": null,
   "metadata": {},
   "outputs": [],
   "source": [
    "mouse_id = 'TS22'\n",
    "date = '20230510'"
   ]
  },
  {
   "cell_type": "code",
   "execution_count": null,
   "metadata": {},
   "outputs": [],
   "source": [
    "all_experiments = get_all_experimental_records()\n",
    "experiment_to_process = all_experiments[(all_experiments['date'] == date) & (all_experiments['mouse_id'] == mouse_id)]\n",
    "session_data = open_experiment(experiment_to_process)\n",
    "\n",
    "saving_folder = 'T:\\\\photometry_2AC\\\\processed_data\\\\' + mouse_id + '\\\\'\n",
    "#saving_folder = 'S:\\\\users\\\\Yvonne\\\\photometry_2AC\\\\processed_data\\\\' + mouse_id + '\\\\'\n",
    "#saving_folder = 'C:\\\\Users\\\\francescag\\\\Documents\\\\PhD_Project\\\\SNL_photo_photometry\\\\processed_data' + session_data.mouse + '\\\\'\n",
    "restructured_data_filename = mouse_id + '_' + date + '_' + 'restructured_data.pkl'\n",
    "trial_data = pd.read_pickle(saving_folder + restructured_data_filename)\n",
    "\n",
    "cot_trials = trial_data[trial_data['Sound type'] == 0]\n",
    "\n",
    "silence_trials = trial_data[trial_data['Sound type'] == 1]\n",
    "\n",
    "num_silence_trials = silence_trials.shape[0]\n",
    "per_missed_trials = silence_trials[silence_trials['Trial outcome']==3].shape[0]/num_silence_trials\n",
    "per_correct_trials = silence_trials[silence_trials['Trial outcome']==1].shape[0]/num_silence_trials\n",
    "per_incorrect_trials = silence_trials[silence_trials['Trial outcome']==0].shape[0]/num_silence_trials\n",
    "silence_data_behavioural = pd.DataFrame({'mouse': [mouse_id], 'missed': [per_missed_trials], 'correct':[per_correct_trials], 'incorrect': [per_incorrect_trials], 'stimulus': ['silence']})\n",
    "\n",
    "num_cot_trials_trials = cot_trials.shape[0]\n",
    "per_missed_trials = cot_trials[cot_trials['Trial outcome']==3].shape[0]/num_cot_trials_trials\n",
    "per_correct_trials = cot_trials[cot_trials['Trial outcome']==1].shape[0]/num_cot_trials_trials\n",
    "per_incorrect_trials = cot_trials[cot_trials['Trial outcome']==0].shape[0]/num_cot_trials_trials\n",
    "cot_data_behavioural = pd.DataFrame({'mouse': [mouse_id], 'missed': [per_missed_trials], 'correct':[per_correct_trials], 'incorrect': [per_incorrect_trials], 'stimulus': ['tone']})\n",
    "\n",
    "behavioural_data = pd.concat([silence_data_behavioural, cot_data_behavioural]).reset_index(drop=True)\n",
    "\n",
    "params = {'state_type_of_interest': 5,\n",
    "    'outcome': 2,\n",
    "    'last_outcome': 0,  # NOT USED CURRENTLY\n",
    "    'no_repeats' : 1,\n",
    "    'last_response': 0,\n",
    "    'align_to' : 'Time start',\n",
    "    'instance': 0,\n",
    "    'plot_range': [-6, 6],\n",
    "    'first_choice_correct': 0,\n",
    "    'cue': None}\n",
    "test = CustomAlignedData(session_data, params)\n",
    "\n",
    "_, cot_inds, _ = np.intersect1d(test.contra_data.trial_nums, cot_trials['Trial num'], return_indices=True)\n",
    "_, silence_inds, _ = np.intersect1d(test.contra_data.trial_nums, silence_trials['Trial num'], return_indices=True)\n",
    "\n",
    "peaks = test.contra_data.trial_peaks\n",
    "cot_peaks = [peaks[trial] for trial in cot_inds if peaks[trial].size > 0]\n",
    "silence_peaks = [peaks[trial] for trial in silence_inds  if peaks[trial].size > 0]\n",
    "\n",
    "cot_traces = test.contra_data.sorted_traces[cot_inds, :]\n",
    "silence_traces = test.contra_data.sorted_traces[silence_inds, :]\n",
    "\n",
    "mean_cot_trace = np.mean(test.contra_data.sorted_traces[cot_inds, :], axis=0)\n",
    "cot_error_bar_lower, cot_error_bar_upper = calculate_error_bars(mean_cot_trace,\n",
    "                                                        cot_traces,\n",
    "                                                        error_bar_method='sem')\n",
    "                 \n",
    "mean_silence_trace = np.mean(test.contra_data.sorted_traces[silence_inds, :], axis=0)\n",
    "silence_error_bar_lower, silence_error_bar_upper = calculate_error_bars(mean_silence_trace,\n",
    "                                                        silence_traces,\n",
    "                                                        error_bar_method='sem')\n",
    "mouse_silence_data = {'mouse': mouse_id, 'tone': [mean_cot_trace], 'tone error bar lower': [cot_error_bar_lower], 'tone error  bar upper': [cot_error_bar_upper], \n",
    "                     'silence': [mean_silence_trace], 'silence error bar lower': [silence_error_bar_lower], 'silence error bar upper': [silence_error_bar_upper], \n",
    "                     'mean tone peak': np.mean(cot_peaks), 'mean silence peak': np.mean(silence_peaks)}\n",
    "\n",
    "all_mouse_silence_df = pd.DataFrame(mouse_silence_data)\n"
   ]
  },
  {
   "cell_type": "code",
   "execution_count": null,
   "metadata": {},
   "outputs": [],
   "source": [
    "example_mouse_data = all_mouse_silence_df"
   ]
  }
 ],
 "metadata": {
  "kernelspec": {
   "display_name": "Python 3",
   "language": "python",
   "name": "python3"
  },
  "language_info": {
   "codemirror_mode": {
    "name": "ipython",
    "version": 3
   },
   "file_extension": ".py",
   "mimetype": "text/x-python",
   "name": "python",
   "nbconvert_exporter": "python",
   "pygments_lexer": "ipython3",
   "version": "3.6.13"
  }
 },
 "nbformat": 4,
 "nbformat_minor": 4
}
